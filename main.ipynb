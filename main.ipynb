{
 "cells": [
  {
   "cell_type": "code",
   "execution_count": 25,
   "metadata": {},
   "outputs": [],
   "source": [
    "#change original format\n",
    "import re\n",
    "import os\n",
    "import pandas as pd\n",
    "\n",
    "def change_format(path = r\"data\\excel_output\\希望的格式.xlsx\", outpath = r\"data\\excel_output\\希望的格式1.xlsx\"):\n",
    "    out = pd.read_excel(path) #read excel\n",
    "\n",
    "    for i in range (0,len(out)-1,2): #remove name row\n",
    "        out.iloc[i:i+1,1:] = out.iloc[i+1:i+2,1:]\n",
    "    out = out[out['Name'].notna()]\n",
    "\n",
    "    out = out.rename(columns={'nad4L':'nad4l', 'tA':'trnA', 'tC':'trnC', 'tD':'trnD', 'tE':'trnE', #change column name\n",
    "                            'tF':'trnF', 'tG':'trnG', 'tH':'trnH', 'tL1':'trnL1', 'tL2':'trnL2', \n",
    "                            'tM':'trnM', 'tN':'trnN', 'tP':'trnP', 'tQ':'trnQ', 'tR':'trnR', \n",
    "                            'tS1':'trnS1', 'tS2':'trnS2', 'tT':'trnT', 'tV':'trnV', 'tW':'trnW', \n",
    "                            'tY':'trnY'})\n",
    "\n",
    "    out.to_excel (outpath, index = False, header=True)\n",
    "change_format()"
   ]
  },
  {
   "cell_type": "code",
   "execution_count": 92,
   "metadata": {},
   "outputs": [],
   "source": [
    "def file_to_df(path, dir = \"data\\\\fasta_file\\\\\"):\n",
    "    data_dict = {}\n",
    "\n",
    "    with open(dir + path,\"r\") as obj:\n",
    "        data = obj.read()\n",
    "\n",
    "    datalist = re.findall(\"[>][^>]+\", data)\n",
    "\n",
    "    for i in datalist:\n",
    "        a = re.findall(\"_([a-zA-Z0-9.]{3,})\", i)[-1]\n",
    "        i = ''.join(i.splitlines()[1:])\n",
    "        data_dict[a] = []\n",
    "        data_dict[a].append(i)\n",
    "        filename = re.match(\"(\\w+)(\\.)\",path)\n",
    "        df = pd.DataFrame(data_dict)\n",
    "        df['Name'] = \">\" + filename.group(1)\n",
    "        df = df.sort_index(axis = 1)\n",
    "    return df\n"
   ]
  },
  {
   "cell_type": "code",
   "execution_count": 79,
   "metadata": {},
   "outputs": [],
   "source": [
    "def get_fasta_file_data(dir = \"data\\\\fasta_file\"):\n",
    "    filelist = os.listdir(dir)\n",
    "    templist = []\n",
    "    for file in filelist:\n",
    "        templist.append(file_to_df(file,dir+\"\\\\\"))\n",
    "    return templist"
   ]
  },
  {
   "cell_type": "code",
   "execution_count": 91,
   "metadata": {},
   "outputs": [],
   "source": [
    "def combine_data_frame(dir = \"data\\\\fasta_file\"):\n",
    "    templist = get_fasta_file_data(dir)\n",
    "    result = templist[0]\n",
    "    n = 0\n",
    "    while n < len(templist)-1:\n",
    "        n += 1\n",
    "        result = pd.concat([templist[n],result],ignore_index=True) #combine data and sort column name\n",
    "    return result\n"
   ]
  },
  {
   "cell_type": "code",
   "execution_count": 88,
   "metadata": {},
   "outputs": [],
   "source": [
    "def write_data_to_excel(excel_path,data): #add the new combined data to original excel\n",
    "    original_data = pd.read_excel(excel_path, index_col=False)\n",
    "    original_data = pd.concat([original_data,data],ignore_index=True)\n",
    "    original_data.to_excel(\"data\\excel_output\\希望的格式1.xlsx\") "
   ]
  },
  {
   "cell_type": "code",
   "execution_count": 90,
   "metadata": {},
   "outputs": [],
   "source": [
    "##main\n",
    "original_excel_path = r\"data\\excel_output\\希望的格式.xlsx\"\n",
    "formatted_excel_path = r\"data\\excel_output\\output.xlsx\"\n",
    "fasta_file_dir = r\"data\\fasta_file\"\n",
    "\n",
    "##change format\n",
    "change_format(original_excel_path,formatted_excel_path)\n",
    "write_data_to_excel(formatted_excel_path,combine_data_frame(fasta_file_dir))\n"
   ]
  }
 ],
 "metadata": {
  "interpreter": {
   "hash": "2217992099559a26038b70e11f392c50e16e825ff225ac028cf0711693f69c89"
  },
  "kernelspec": {
   "display_name": "Python 3.8.5 64-bit",
   "language": "python",
   "name": "python3"
  },
  "language_info": {
   "codemirror_mode": {
    "name": "ipython",
    "version": 3
   },
   "file_extension": ".py",
   "mimetype": "text/x-python",
   "name": "python",
   "nbconvert_exporter": "python",
   "pygments_lexer": "ipython3",
   "version": "3.8.5"
  },
  "orig_nbformat": 4
 },
 "nbformat": 4,
 "nbformat_minor": 2
}
